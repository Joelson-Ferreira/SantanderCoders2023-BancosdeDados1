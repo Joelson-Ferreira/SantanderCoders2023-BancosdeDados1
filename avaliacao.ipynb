{
 "cells": [
  {
   "cell_type": "markdown",
   "metadata": {},
   "source": [
    ">  # Avaliação Bancos de Dados I"
   ]
  },
  {
   "cell_type": "markdown",
   "metadata": {},
   "source": [
    "Modelagem e normalização de bancos de dados relacionais\n",
    "Certo dia, um dos gestores do banco em que você trabalha como cientista de dados procurou você pedindo ajuda para projetar um pequeno banco de dados com o objetivo de mapear os clientes da companhia pelos diferentes produtos financeiros que eles contrataram.\n",
    "\n",
    "O gestor explicou que o banco tinha uma grande quantidade de clientes e oferecia uma variedade de produtos financeiros, como cartões de crédito, empréstimos, seguros e investimentos. No entanto, eles estavam tendo dificuldades para entender quais produtos eram mais populares entre os clientes e como esses produtos estavam interagindo entre si.\n",
    "\n",
    "Como ponto de partida, o gestor deixou claro que um cliente pode contratar vários produtos diferentes ao passo que um mesmo produto pode também estar associado a vários clientes diferentes e elaborou um rústico esboço de banco de dados com duas tabelas, da seguinte forma:\n",
    "\n",
    "Tabela 1\n",
    "\n",
    ">Nome da tabela: cliente\n",
    ">Colunas: codigo_cliente, nome_cliente, sobrenome_cliente, telefones_cliente, municipio_cliente, codigo_tipo_cliente, tipo_cliente\n",
    "\n",
    "Tabela 2\n",
    "\n",
    ">Nome da tabela: produto\n",
    ">Colunas: codigo_produto, nome_produto, descricao_produto, codigo_tipo_produto, tipo_produto, codigo_diretor_responsavel, nome_diretor_responsavel, email_diretor_responsavel"
   ]
  },
  {
   "cell_type": "markdown",
   "metadata": {},
   "source": [
    "1 - Ainda sem fazer normalizações, apresente o modelo conceitual deste esboço oferecido pelo gestor, destacando atributos chaves e multivalorados, caso existam, e apresentando também a cardinalidade dos relacionamentos.\n",
    "\n",
    ">No DER abaixo, destaco o atributo \"telefones_cliente\" como multivalorado, pois armazena mais de um valor para um mesmo registro (telefone). Já os atributos \"codigo_cliente\" e \"codigo_produto\" são chaves primárias para as entidades \"CLIENTE\" e \"PRODUTO\", respectivamente. Como \"municipio_cliente\" não trata-se do endereço completo, não estou considerando atributo composto."
   ]
  },
  {
   "cell_type": "markdown",
   "metadata": {},
   "source": [
    "<p align=\"center\">\n",
    "  <img width=\"720\" height=\"420\" src=\"der_nao_normalizado.png\">\n",
    "</p>"
   ]
  },
  {
   "cell_type": "markdown",
   "metadata": {},
   "source": [
    "2) Agora apresente um modelo lógico que expresse as mesmas informações e relacionamentos descritos no modelo original, mas decompondo-os quando necessário para que sejam respeitadas as 3 primeiras formas normais. Destaque atributos chaves e multivalorados, caso existam, e apresente também a cardinalidade dos relacionamentos."
   ]
  },
  {
   "cell_type": "markdown",
   "metadata": {},
   "source": [
    "<p align=\"center\">\n",
    "  <img width=\"720\" height=\"420\" src=\"Avaliacao_LOG2.png\">\n",
    "</p>"
   ]
  },
  {
   "cell_type": "markdown",
   "metadata": {},
   "source": [
    "## Consultas SQL simples e complexas em um banco de dados postgres"
   ]
  },
  {
   "cell_type": "markdown",
   "metadata": {},
   "source": [
    "Um exemplo de modelo de banco de dados com relacionamento muitos-para-muitos pode ser o de um e-commerce que tem produtos e categorias, onde um produto pode pertencer a várias categorias e uma categoria pode estar associada a vários produtos. Nesse caso, teríamos duas tabelas: \"produtos\" e \"categorias\", com uma tabela intermediária \"produtos_categorias\" para relacionar os produtos às suas categorias."
   ]
  },
  {
   "cell_type": "markdown",
   "metadata": {},
   "source": [
    "CREATE TABLE produtos (\n",
    "\n",
    "> id SERIAL PRIMARY KEY,\n",
    "\n",
    "> nome VARCHAR(100) NOT NULL,\n",
    "\n",
    "> preco DECIMAL(10, 2) NOT NULL,\n",
    "\n",
    ");\n",
    "\n",
    "CREATE TABLE categorias (\n",
    "\n",
    "> id SERIAL PRIMARY KEY,\n",
    "\n",
    "> nome VARCHAR(100) NOT NULL\n",
    "    \n",
    ");\n",
    "\n",
    "CREATE TABLE produtos_categorias (\n",
    "\n",
    "> produto_id INTEGER REFERENCES produtos(id),\n",
    "\n",
    "> categoria_id INTEGER REFERENCES categorias(id),\n",
    "\n",
    "> PRIMARY KEY (produto_id, categoria_id)\n",
    "\n",
    ");"
   ]
  },
  {
   "cell_type": "markdown",
   "metadata": {},
   "source": [
    "Assim, usando o subconjunto da \"structured query language\" chamado de DQL, produza consultas postgress de modo a atender cada uma das seguintes solicitações:"
   ]
  },
  {
   "cell_type": "markdown",
   "metadata": {},
   "source": [
    "3) Liste os nomes de todos os produtos que custam mais de 100 reais, ordenando-os primeiramente pelo preço e em segundo lugar pelo nome. Use alias para mostrar o nome da coluna nome como \"Produto\" e da coluna preco como \"Valor\". A resposta da consulta não deve mostrar outras colunas de dados."
   ]
  },
  {
   "cell_type": "markdown",
   "metadata": {},
   "source": [
    "SELECT \n",
    ">p.nome AS \"Produto\",\n",
    "\n",
    ">p.preco AS \"Valor\"\n",
    "\n",
    "FROM \n",
    ">produtos p\n",
    "\n",
    "WHERE \n",
    ">p.preco > 100\n",
    "\n",
    "ORDER BY \n",
    ">p.preco,\n",
    "\n",
    ">p.nome;\n"
   ]
  },
  {
   "cell_type": "markdown",
   "metadata": {},
   "source": [
    "<p align=\"center\">\n",
    "  <img width=\"720\" height=\"420\" src=\"Q3.png\">\n",
    "</p>"
   ]
  },
  {
   "cell_type": "markdown",
   "metadata": {},
   "source": [
    "4) Liste todos os ids e preços de produtos cujo preço seja maior do que a média de todos os preços encontrados na tabela \"produtos\"."
   ]
  },
  {
   "cell_type": "markdown",
   "metadata": {},
   "source": [
    "SELECT \n",
    ">id,\n",
    "\n",
    ">preco\n",
    "\n",
    "FROM \n",
    ">produtos\n",
    "\n",
    "WHERE \n",
    ">preco > (SELECT AVG(preco) FROM produtos);\n"
   ]
  },
  {
   "cell_type": "markdown",
   "metadata": {},
   "source": [
    "<p align=\"center\">\n",
    "  <img width=\"720\" height=\"420\" src=\"Q4.png\">\n",
    "</p>"
   ]
  },
  {
   "cell_type": "markdown",
   "metadata": {},
   "source": [
    "5) Para cada categoria, mostre o preço médio do conjunto de produtos a ela associados. Caso uma categoria não tenha nenhum produto a ela associada, esta categoria não deve aparecer no resultado final. A consulta deve estar ordenada pelos nomes das categorias."
   ]
  },
  {
   "cell_type": "markdown",
   "metadata": {},
   "source": [
    "SELECT \n",
    ">c.nome AS \"Categoria\",\n",
    "\n",
    ">AVG(p.preco) AS \"Preço Médio\"\n",
    "\n",
    "FROM \n",
    ">categorias c\n",
    "\n",
    "JOIN \n",
    ">produtos_categorias pc ON c.id = pc.categoria_id\n",
    "\n",
    "JOIN \n",
    ">produtos p ON pc.produto_id = p.id\n",
    "\n",
    "GROUP BY \n",
    ">c.nome\n",
    "\n",
    "ORDER BY \n",
    ">c.nome;\n"
   ]
  },
  {
   "cell_type": "markdown",
   "metadata": {},
   "source": [
    "<p align=\"center\">\n",
    "  <img width=\"720\" height=\"420\" src=\"Q5.png\">\n",
    "</p>"
   ]
  },
  {
   "cell_type": "markdown",
   "metadata": {},
   "source": [
    "## Inserções, alterações e remoções de objetos e dados em um banco de dados postgres"
   ]
  },
  {
   "cell_type": "markdown",
   "metadata": {},
   "source": [
    "Você está participando de um processo seletivo para trabalhar como cientista de dados na Ada, uma das maiores formadoras do país em áreas correlatadas à tecnologia. Dividido em algumas etapas, o processo tem o objetivo de avaliar você nos quesitos Python, Machine Learning e Bancos de Dados. Ainda que os dois primeiros sejam o cerne da sua atuação no dia-a-dia, considera-se que Bancos de Dados também constituem um requisito importante e, por isso, esta etapa pode ser a oportunidade que você precisava para se destacar dentre os seus concorrentes, demonstrando um conhecimento mais amplo do que os demais."
   ]
  },
  {
   "cell_type": "markdown",
   "metadata": {},
   "source": [
    "6) Com o objetivo de demonstrar o seu conhecimento através de um exemplo contextualizado com o dia-a-dia da escola, utilize os comandos do subgrupo de funções DDL para construir o banco de dados simples abaixo, que representa um relacionamento do tipo 1,n entre as entidades \"aluno\" e \"turma\":\n",
    "\n",
    "Tabela 1\n",
    "\n",
    "> Nome da tabela: aluno\n",
    "\n",
    "> Colunas da tabela: id_aluno (INT), nome_aluno (VARCHAR), aluno_alocado (BOOLEAN), id_turma (INT)\n",
    "\n",
    "Tabela 2\n",
    "\n",
    "> Nome da tabela: turma\n",
    "\n",
    "> olunas da tabela: id_turma (INT), código_turma (VARCHAR), nome_turma (VARCHAR)"
   ]
  },
  {
   "cell_type": "markdown",
   "metadata": {},
   "source": [
    "CREATE TABLE turma (\n",
    ">id_turma INTEGER PRIMARY KEY,\n",
    "\n",
    ">codigo_turma VARCHAR(10),\n",
    "\n",
    ">nome_turma VARCHAR(100)\n",
    "\n",
    ");\n",
    "\n",
    "CREATE TABLE aluno (\n",
    ">id_aluno INTEGER PRIMARY KEY,\n",
    "\n",
    ">nome_aluno VARCHAR(200),\n",
    "\n",
    ">aluno_alocado BOOLEAN,\n",
    "\n",
    ">id_turma INTEGER REFERENCES turma(id_turma)\n",
    "\n",
    ");"
   ]
  },
  {
   "cell_type": "markdown",
   "metadata": {},
   "source": [
    "<p align=\"center\">\n",
    "  <img width=\"720\" height=\"420\" src=\"Q6.png\">\n",
    "</p>"
   ]
  },
  {
   "cell_type": "markdown",
   "metadata": {},
   "source": [
    "7) Agora que você demonstrou que consegue ser mais do que um simples usuário do banco de dados, mostre separadamente cada um dos códigos DML necessários para cumprir cada uma das etapas a seguir:"
   ]
  },
  {
   "cell_type": "markdown",
   "metadata": {},
   "source": [
    "a) Inserir pelo menos duas turmas diferentes na tabela de turma;"
   ]
  },
  {
   "cell_type": "markdown",
   "metadata": {},
   "source": [
    ">INSERT INTO turma(id_turma,codigo_turma,nome_turma) VALUES (100, 'ADA2023001', 'SantanderCoders2023');\n",
    "\n",
    ">INSERT INTO turma(id_turma,codigo_turma,nome_turma) VALUES (200, 'ADA2023002', 'DiversidadeTech');"
   ]
  },
  {
   "cell_type": "markdown",
   "metadata": {},
   "source": [
    "b) Inserir pelo menos 1 aluno alocado em cada uma destas turmas na tabela aluno (todos com NULL na coluna aluno_alocado);"
   ]
  },
  {
   "cell_type": "markdown",
   "metadata": {},
   "source": [
    ">INSERT INTO aluno(id_aluno,nome_aluno,aluno_alocado,id_turma) VALUES (85801, 'Joelson da Silva Ferreira', NULL, 100);\n",
    "\n",
    ">INSERT INTO aluno(id_aluno,nome_aluno,aluno_alocado,id_turma) VALUES (35402, 'Joana de Souza', NULL, 200);"
   ]
  },
  {
   "cell_type": "markdown",
   "metadata": {},
   "source": [
    "c) Inserir pelo menos 2 alunos não alocados em nenhuma turma na tabela aluno (todos com NULL na coluna aluno_alocado);"
   ]
  },
  {
   "cell_type": "markdown",
   "metadata": {},
   "source": [
    ">INSERT INTO aluno(id_aluno,nome_aluno,aluno_alocado,id_turma) VALUES (85803, 'Maria dos Santos', NULL, NULL);\n",
    "\n",
    ">INSERT INTO aluno(id_aluno,nome_aluno,aluno_alocado,id_turma) VALUES (35405, 'Fernando Andrade Correia', NULL, NULL);"
   ]
  },
  {
   "cell_type": "markdown",
   "metadata": {},
   "source": [
    "d) Atualizar a coluna aluno_alocado da tabela aluno, de modo que os alunos associados a uma disciplina recebam o valor True e alunos não associdos a nenhuma disciplina recebam o falor False para esta coluna."
   ]
  },
  {
   "cell_type": "markdown",
   "metadata": {},
   "source": [
    "UPDATE aluno\n",
    "\n",
    "SET aluno_alocado = CASE\n",
    ">WHEN id_turma IS NOT NULL THEN TRUE\n",
    "\n",
    ">ELSE FALSE\n",
    "\n",
    "END;"
   ]
  },
  {
   "cell_type": "markdown",
   "metadata": {},
   "source": [
    "OBS: Segue em anexo os arquivos \".sql\" utilizados na avaliação."
   ]
  }
 ],
 "metadata": {
  "language_info": {
   "name": "python"
  },
  "orig_nbformat": 4
 },
 "nbformat": 4,
 "nbformat_minor": 2
}
